{
  "nbformat": 4,
  "nbformat_minor": 0,
  "metadata": {
    "colab": {
      "name": "MY NEW NOTE BOOK",
      "provenance": [],
      "authorship_tag": "ABX9TyPP6xsltm+rEktQNhOa5ifq",
      "include_colab_link": true
    },
    "kernelspec": {
      "name": "python3",
      "display_name": "Python 3"
    },
    "language_info": {
      "name": "python"
    }
  },
  "cells": [
    {
      "cell_type": "markdown",
      "metadata": {
        "id": "view-in-github",
        "colab_type": "text"
      },
      "source": [
        "<a href=\"https://colab.research.google.com/github/raviteja1803/Basic-ML/blob/main/MY_NEW_NOTE_BOOK.ipynb\" target=\"_parent\"><img src=\"https://colab.research.google.com/assets/colab-badge.svg\" alt=\"Open In Colab\"/></a>"
      ]
    },
    {
      "cell_type": "markdown",
      "metadata": {
        "id": "OHliMtmlJP7O"
      },
      "source": [
        "PYTHON PROGRAM FOR FINDING EVEN OR ODD:"
      ]
    },
    {
      "cell_type": "code",
      "metadata": {
        "colab": {
          "base_uri": "https://localhost:8080/"
        },
        "id": "Ubp7YWe0JWvx",
        "outputId": "9ba2cff4-ccbc-4484-d3eb-a85b74c8d860"
      },
      "source": [
        "N=int(input())\n",
        "if (N%2==0):\n",
        "   print(\" Even\")\n",
        "else:\n",
        "   print (\" Odd\")"
      ],
      "execution_count": null,
      "outputs": [
        {
          "output_type": "stream",
          "text": [
            "2\n",
            " Even\n"
          ],
          "name": "stdout"
        }
      ]
    },
    {
      "cell_type": "markdown",
      "metadata": {
        "id": "OZqwvMdBJe92"
      },
      "source": [
        "PYTHON PROGRAM FOR FINDING MIXMUM OF TWO NUMBER"
      ]
    },
    {
      "cell_type": "code",
      "metadata": {
        "colab": {
          "base_uri": "https://localhost:8080/"
        },
        "id": "L_wIJPYIJiQz",
        "outputId": "2c8bfa1a-ebc0-417a-ab02-2624656071c4"
      },
      "source": [
        "a=int(input(\"enter a:\")) \n",
        "b=int(input(\"enter b:\")) \n",
        "if (a>b):\n",
        "   print(\"max is a\")\n",
        "else:\n",
        "   print(\"max is b\")"
      ],
      "execution_count": null,
      "outputs": [
        {
          "output_type": "stream",
          "text": [
            "enter a:4\n",
            "enter b:3\n",
            "max is a\n"
          ],
          "name": "stdout"
        }
      ]
    },
    {
      "cell_type": "markdown",
      "metadata": {
        "id": "tsdwKLliJsno"
      },
      "source": [
        "PYTHON PROGRAM FOR FINTING LEAP OR NOT"
      ]
    },
    {
      "cell_type": "code",
      "metadata": {
        "colab": {
          "base_uri": "https://localhost:8080/"
        },
        "id": "vAZMf8OUJtgd",
        "outputId": "938399d3-7dd6-4489-9ea7-1709899a7237"
      },
      "source": [
        "y=int(input(\"enter a number:\")) \n",
        "if (y%4==0 and y%100!=0) or (y%400==0):\n",
        "   print(\"leap year\") \n",
        "else: \n",
        "   print(\"non leap year\")"
      ],
      "execution_count": null,
      "outputs": [
        {
          "output_type": "stream",
          "text": [
            "enter a number:2020\n",
            "leap year\n"
          ],
          "name": "stdout"
        }
      ]
    }
  ]
}